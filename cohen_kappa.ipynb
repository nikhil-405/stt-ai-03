{
 "cells": [
  {
   "cell_type": "markdown",
   "metadata": {},
   "source": [
    "## Importing the modules"
   ]
  },
  {
   "cell_type": "code",
   "execution_count": 1,
   "metadata": {},
   "outputs": [],
   "source": [
    "import pandas as pd\n",
    "import json\n",
    "from sklearn.metrics import cohen_kappa_score"
   ]
  },
  {
   "cell_type": "markdown",
   "metadata": {},
   "source": [
    "## Reading the data from JSON files"
   ]
  },
  {
   "cell_type": "code",
   "execution_count": 2,
   "metadata": {},
   "outputs": [],
   "source": [
    "# Reading annotations of the first annotator\n",
    "file_path1 = r\"C:\\Users\\LENOVO\\Desktop\\STT AI\\Assignment 3\\stt-ai-03\\annotations\\annotator1\\pos_tagging.json\"\n",
    "with open(file_path1, 'r', encoding = 'utf-8') as file:\n",
    "    annotations1 = json.load(file)\n",
    "\n",
    "# Reading annotations of the second annotator\n",
    "file_path2 = r\"C:\\Users\\LENOVO\\Desktop\\STT AI\\Assignment 3\\stt-ai-03\\annotations\\annotator2\\pos_tagging.json\"\n",
    "with open(file_path2, 'r', encoding = 'utf-8') as file:\n",
    "    annotations2 = json.load(file)"
   ]
  },
  {
   "cell_type": "markdown",
   "metadata": {},
   "source": [
    "## Preparing the data for computing Cohen's Kappa"
   ]
  },
  {
   "cell_type": "code",
   "execution_count": 3,
   "metadata": {},
   "outputs": [],
   "source": [
    "# This function extracts the labels from the JSON files\n",
    "def prepare_data(annotations):\n",
    "    aligned_tags = []\n",
    "    \n",
    "    for annotation in annotations:\n",
    "        new_list = []\n",
    "        \n",
    "        for label in annotation['label']:\n",
    "            words = label['text'].split()\n",
    "            tag = label['labels'][0]  \n",
    "            \n",
    "            for _ in words:\n",
    "                new_list.append(tag)\n",
    "        \n",
    "        aligned_tags.append(new_list)\n",
    "    \n",
    "    return aligned_tags"
   ]
  },
  {
   "cell_type": "code",
   "execution_count": 4,
   "metadata": {},
   "outputs": [],
   "source": [
    "pos_tags1 = prepare_data(annotations1)\n",
    "pos_tags2 = prepare_data(annotations2)"
   ]
  },
  {
   "cell_type": "markdown",
   "metadata": {},
   "source": [
    "## Computing Cohen's Kappa"
   ]
  },
  {
   "cell_type": "code",
   "execution_count": 5,
   "metadata": {},
   "outputs": [
    {
     "name": "stdout",
     "output_type": "stream",
     "text": [
      "Cohen's Kappa: 0.7481375834279542\n"
     ]
    }
   ],
   "source": [
    "pos_tags1 = [tag for sublist in pos_tags1 for tag in sublist]\n",
    "pos_tags2 = [tag for sublist in pos_tags2 for tag in sublist]\n",
    "\n",
    "print(f\"Cohen's Kappa: {cohen_kappa_score(pos_tags1, pos_tags2)}\")"
   ]
  },
  {
   "cell_type": "markdown",
   "metadata": {},
   "source": [
    "#### <b>Interpreting the results</b>\n",
    "We have obtained a Cohen's Kappa of 0.75 which is clearly above random chance and indicates a substantial agreement between the two annotators."
   ]
  }
 ],
 "metadata": {
  "kernelspec": {
   "display_name": "Python 3",
   "language": "python",
   "name": "python3"
  },
  "language_info": {
   "codemirror_mode": {
    "name": "ipython",
    "version": 3
   },
   "file_extension": ".py",
   "mimetype": "text/x-python",
   "name": "python",
   "nbconvert_exporter": "python",
   "pygments_lexer": "ipython3",
   "version": "3.12.3"
  }
 },
 "nbformat": 4,
 "nbformat_minor": 2
}

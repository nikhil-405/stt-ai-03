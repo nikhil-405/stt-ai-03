{
 "cells": [
  {
   "cell_type": "markdown",
   "metadata": {},
   "source": [
    "## Importing the libraries"
   ]
  },
  {
   "cell_type": "code",
   "execution_count": 1,
   "metadata": {},
   "outputs": [],
   "source": [
    "import pandas as pd\n",
    "from statsmodels.stats.inter_rater import fleiss_kappa"
   ]
  },
  {
   "cell_type": "markdown",
   "metadata": {},
   "source": [
    "## Reading the data"
   ]
  },
  {
   "cell_type": "code",
   "execution_count": null,
   "metadata": {},
   "outputs": [],
   "source": [
    "annotations_1 = r\"C:\\Users\\LENOVO\\Desktop\\STT AI\\Assignment 3\\stt-ai-03\\annotations\\annotator1\\image_classification.csv\"\n",
    "df1 = pd.read_csv(annotations_1)\n",
    "\n",
    "annotations_2 = r\"C:\\Users\\LENOVO\\Desktop\\STT AI\\Assignment 3\\stt-ai-03\\annotations\\annotator2\\image_classification.csv\"\n",
    "df2 = pd.read_csv(annotations_2)\n",
    "\n",
    "# these are the annotations that we borrowed from another team\n",
    "annotations_3 = r\"C:\\Users\\LENOVO\\Downloads\\CV_DATASET_DHRUV.csv\"\n",
    "df3 = pd.read_csv(annotations_3)"
   ]
  },
  {
   "cell_type": "markdown",
   "metadata": {},
   "source": [
    "## Preparing the data for computing Fleiss' Kappa"
   ]
  },
  {
   "cell_type": "code",
   "execution_count": 3,
   "metadata": {},
   "outputs": [],
   "source": [
    "# This function prepares the frequency cross table for a given set of annotations in CSV format\n",
    "def prepare_dataframe(df1):\n",
    "    df1.drop(columns = [\"created_at\", \"annotator\", \"id\", \"lead_time\", \"updated_at\", 'annotation_id'], inplace = True)\n",
    "    df1['image'] = df1['image'].apply(lambda x: x[-7:])\n",
    "    df1.sort_values(by = 'image', ascending = True, inplace = True)\n",
    "    freq_table = pd.crosstab(df1['image'], df1['choice'])\n",
    "    freq_table = freq_table.fillna(0)\n",
    "    return freq_table"
   ]
  },
  {
   "cell_type": "code",
   "execution_count": 4,
   "metadata": {},
   "outputs": [],
   "source": [
    "df3.columns = [\"image\", \"choice\"]\n",
    "df3[\"image\"] = df3[\"image\"].apply(lambda x: str(x) + \".jpg\")\n",
    "df3[\"choice\"] = df3[\"choice\"].replace(\"TRUCK\", \"Trucks\") \n",
    "df3[\"choice\"] = df3[\"choice\"].replace(\"NO TRUCK\", \"No Trucks\")\n",
    " \n",
    "df3.sort_values(by = 'image', ascending = True, inplace = True)\n",
    "freq_table3 = pd.crosstab(df3['image'], df3['choice'])\n",
    "freq_table3 = freq_table3.fillna(0)"
   ]
  },
  {
   "cell_type": "code",
   "execution_count": 5,
   "metadata": {},
   "outputs": [],
   "source": [
    "freq_table1 = prepare_dataframe(df1)\n",
    "freq_table2 = prepare_dataframe(df2)\n",
    "\n",
    "freq_table = freq_table1.add(freq_table2, fill_value = 0)\n",
    "freq_table = freq_table.add(freq_table3, fill_value = 0)\n",
    "freq_table = freq_table.to_numpy()"
   ]
  },
  {
   "cell_type": "code",
   "execution_count": 6,
   "metadata": {},
   "outputs": [
    {
     "data": {
      "text/plain": [
       "0.603174603174603"
      ]
     },
     "execution_count": 6,
     "metadata": {},
     "output_type": "execute_result"
    }
   ],
   "source": [
    "fleiss_kappa(freq_table)"
   ]
  },
  {
   "cell_type": "markdown",
   "metadata": {},
   "source": [
    "#### <b>Interpreting the results</b>\n",
    "We have obtained Fleiss' kappa value of 0.6, this means that the agreement among the raters is moderate. One of the reason for low value is due to confusion between Tempos and trucks."
   ]
  }
 ],
 "metadata": {
  "kernelspec": {
   "display_name": "Python 3",
   "language": "python",
   "name": "python3"
  },
  "language_info": {
   "codemirror_mode": {
    "name": "ipython",
    "version": 3
   },
   "file_extension": ".py",
   "mimetype": "text/x-python",
   "name": "python",
   "nbconvert_exporter": "python",
   "pygments_lexer": "ipython3",
   "version": "3.12.3"
  }
 },
 "nbformat": 4,
 "nbformat_minor": 2
}
